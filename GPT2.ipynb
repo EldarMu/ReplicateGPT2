{
  "nbformat": 4,
  "nbformat_minor": 0,
  "metadata": {
    "colab": {
      "provenance": [],
      "authorship_tag": "ABX9TyNXZ/WDAWl762+vmDL5v+6K"
    },
    "kernelspec": {
      "name": "python3",
      "display_name": "Python 3"
    },
    "language_info": {
      "name": "python"
    }
  },
  "cells": [
    {
      "cell_type": "code",
      "execution_count": null,
      "metadata": {
        "id": "Lk7W5ORNW7VA"
      },
      "outputs": [],
      "source": []
    }
  ]
}